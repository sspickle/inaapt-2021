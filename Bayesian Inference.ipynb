{
 "cells": [
  {
   "cell_type": "markdown",
   "id": "73544b72",
   "metadata": {},
   "source": [
    "# Bayesian Inference\n",
    "\n",
    "Examples of Bayesian Inference for join ILAAPT/INAAPT Spring Meeting April 24, 2021\n",
    "\n",
    "The `empiricaldist` package is from [Allen B Downey](https://github.com/AllenDowney)\n"
   ]
  },
  {
   "cell_type": "code",
   "execution_count": null,
   "id": "61e9bd8a",
   "metadata": {},
   "outputs": [],
   "source": [
    "# import some packages we'll need later\n",
    "\n",
    "import pymc3 as pm  # Markov Chain Monte Carlo\n",
    "import arviz as az  # visualization\n",
    "import numpy as np  # numpy\n",
    "import matplotlib.pyplot as plt # make pretty graphs\n",
    "import pandas as pd\n",
    "from empiricaldist import Pmf   # Learn about Bayesian inference. A \"Pmf\" is a \"probability mass function\"\n"
   ]
  },
  {
   "cell_type": "code",
   "execution_count": null,
   "id": "4e9b395c",
   "metadata": {},
   "outputs": [],
   "source": [
    "# start with a basket of fruit!\n",
    "A=Pmf({'orange':2, 'apple':5, 'plum':7});\n",
    "A"
   ]
  },
  {
   "cell_type": "code",
   "execution_count": null,
   "id": "3ffb5c39",
   "metadata": {},
   "outputs": [],
   "source": [
    "# convert counts to probabilities\n",
    "A.normalize()\n",
    "A"
   ]
  },
  {
   "cell_type": "code",
   "execution_count": null,
   "id": "1bd56825",
   "metadata": {},
   "outputs": [],
   "source": [
    "# it's easy to retrieve the probability of an outcome\n",
    "A['apple']"
   ]
  },
  {
   "cell_type": "code",
   "execution_count": null,
   "id": "c32567b5",
   "metadata": {},
   "outputs": [],
   "source": [
    "# We can multiply probabilties by a simple list of numbers and it \"does the right thing\" for Bayesian work.\n",
    "A*[1,2,3]"
   ]
  },
  {
   "cell_type": "code",
   "execution_count": null,
   "id": "2273d30e",
   "metadata": {},
   "outputs": [],
   "source": [
    "B=Pmf({'orange':4, 'apple':1, 'plum':12}); \n",
    "B.normalize()\n",
    "B"
   ]
  },
  {
   "cell_type": "code",
   "execution_count": null,
   "id": "1d9cae65",
   "metadata": {},
   "outputs": [],
   "source": [
    "A.choice()"
   ]
  },
  {
   "cell_type": "code",
   "execution_count": null,
   "id": "0b397b20",
   "metadata": {},
   "outputs": [],
   "source": [
    "B.choice()"
   ]
  },
  {
   "cell_type": "code",
   "execution_count": null,
   "id": "8025f667",
   "metadata": {},
   "outputs": [],
   "source": [
    "# a nice way to display both baskets together\n",
    "pd.DataFrame({'A':A, 'B':B})"
   ]
  },
  {
   "cell_type": "code",
   "execution_count": null,
   "id": "4f5700b1",
   "metadata": {},
   "outputs": [],
   "source": [
    "hypotheses = Pmf(1,['A','B'])\n",
    "hypotheses.normalize()\n",
    "hypotheses"
   ]
  },
  {
   "cell_type": "code",
   "execution_count": null,
   "id": "63d5b472",
   "metadata": {},
   "outputs": [],
   "source": [
    "data = 'orange'\n",
    "A[data],B[data]"
   ]
  },
  {
   "cell_type": "code",
   "execution_count": null,
   "id": "e1cd8e19",
   "metadata": {},
   "outputs": [],
   "source": [
    "hypotheses = hypotheses*[A[data],B[data]]\n",
    "hypotheses.normalize()\n",
    "hypotheses"
   ]
  },
  {
   "cell_type": "code",
   "execution_count": null,
   "id": "9a696051",
   "metadata": {},
   "outputs": [],
   "source": [
    "data = 'plum'\n",
    "hypotheses = hypotheses*[A[data],B[data]]\n",
    "hypotheses.normalize()\n",
    "hypotheses"
   ]
  },
  {
   "cell_type": "code",
   "execution_count": null,
   "id": "5d615d51",
   "metadata": {},
   "outputs": [],
   "source": [
    "data = 'plum'\n",
    "hypotheses = hypotheses*[A[data],B[data]]\n",
    "hypotheses.normalize()\n",
    "hypotheses"
   ]
  },
  {
   "cell_type": "code",
   "execution_count": null,
   "id": "23a4bf17",
   "metadata": {},
   "outputs": [],
   "source": [
    "for data in B.choice(10):\n",
    "    hypotheses = hypotheses*[A[data],B[data]]\n",
    "\n",
    "hypotheses.normalize()\n",
    "hypotheses    "
   ]
  },
  {
   "cell_type": "markdown",
   "id": "66bb73dd",
   "metadata": {},
   "source": [
    "# Machinery to handle continuous distributions\n",
    "\n",
    "Many times we don't have discrete distributions, but rather continuous random variables. We can fake this with PMFs, but to really get it right, we need something a bit more sophisticated. Here is a simple example of a linear fit using randomly generated data to illustrate the pymc3 machinery."
   ]
  },
  {
   "cell_type": "code",
   "execution_count": null,
   "id": "2c99e8ee",
   "metadata": {},
   "outputs": [],
   "source": [
    "# generative model, simple normal distribution\n",
    "\n",
    "x1 = np.random.normal(size=20)*.5 + 2\n",
    "\n",
    "with pm.Model() as normal_model:\n",
    "    mu = pm.Normal('mu',mu=0,sigma=5)  # prior distribution for mu\n",
    "    sig = pm.HalfNormal('sig',sigma=2) # prior distribution for sigma\n",
    "    \n",
    "    x_obs = pm.Normal(\"x_obs\", mu=mu, sigma=sig, observed=x1) # relationship to observed data\n",
    "    trace = pm.sample(1000, return_inferencedata=True)\n",
    "    \n",
    "print(az.summary(trace, kind=\"stats\"))\n",
    "_=az.plot_trace(trace)"
   ]
  },
  {
   "cell_type": "code",
   "execution_count": null,
   "id": "b28bda8f",
   "metadata": {},
   "outputs": [],
   "source": [
    "x1 = np.random.normal(size=100)*.3+4.1\n",
    "x2 = np.random.normal(size=70)*.2+4.3\n",
    "\n",
    "_=plt.hist(x1)\n",
    "_=plt.hist(x2)"
   ]
  },
  {
   "cell_type": "code",
   "execution_count": null,
   "id": "3d12937f",
   "metadata": {},
   "outputs": [],
   "source": [
    "with pm.Model() as diff_model:\n",
    "    mu1 = pm.Uniform('mu1',0,10)  # prior distribution for mu1\n",
    "    mu2 = pm.Uniform('mu2',0,10)  # prior for mu2\n",
    "    sig1 = pm.HalfNormal('sig1',sigma=2) # prior distribution for sigma1\n",
    "    sig2 = pm.HalfNormal('sig2',sigma=2) # prior distribution for sigma2\n",
    "    \n",
    "    x1_obs = pm.Normal(\"x1_obs\", mu=mu1, sigma=sig1, observed=x1) # relationship to observed data\n",
    "    x2_obs = pm.Normal(\"x2_obs\", mu=mu2, sigma=sig2, observed=x2) # relationship to observed data\n",
    "\n",
    "    diff = pm.Deterministic(\"x_diff\", mu2 - mu1)\n",
    "\n",
    "    trace = pm.sample(1000, return_inferencedata=True)\n",
    "    \n",
    "print(az.summary(trace, kind=\"stats\"))\n",
    "_=az.plot_trace(trace)"
   ]
  },
  {
   "cell_type": "code",
   "execution_count": null,
   "id": "458953c2",
   "metadata": {},
   "outputs": [],
   "source": [
    "x = np.linspace(0,10,20)\n",
    "m_gen = 2.5\n",
    "b_gen = 1.3\n",
    "s_gen = 0.3\n",
    "\n",
    "y_th = m_gen*x + b_gen\n",
    "y_noise = y_th + s_gen*np.random.normal(size=(len(x))) # y = m*x + b + noise\n",
    "\n",
    "plt.plot(x,y_noise,'b.',label='fake data (w/noise)')\n",
    "plt.plot(x,y_th,'r-',label='theory: no noise')\n",
    "plt.title('generated test data')\n",
    "plt.grid()\n",
    "plt.legend()"
   ]
  },
  {
   "cell_type": "code",
   "execution_count": null,
   "id": "f679f17d",
   "metadata": {},
   "outputs": [],
   "source": [
    "with pm.Model() as model:\n",
    "    m = pm.Uniform('m',0,5)  # prior distribution for m\n",
    "    b = pm.Uniform('b',0,5)  # prior distribution for b\n",
    "    s = pm.Uniform('s',0,2)  # prior distribution for s\n",
    "    \n",
    "    y_obs = pm.Normal('y_obs',mu=m*x+b, sigma=s, observed=y_noise) # relate to measured values\n"
   ]
  },
  {
   "cell_type": "code",
   "execution_count": null,
   "id": "3a0fbfaa",
   "metadata": {},
   "outputs": [],
   "source": [
    "with model:\n",
    "    trace = pm.sample(1000, return_inferencedata=True)\n",
    "    \n",
    "print(az.summary(trace, kind=\"stats\"))\n",
    "_=az.plot_trace(trace)"
   ]
  },
  {
   "cell_type": "code",
   "execution_count": null,
   "id": "f4873a66",
   "metadata": {},
   "outputs": [],
   "source": [
    "import matplotlib\n",
    "\n",
    "print(\"pymc3 is version {:s}\".format(pm.__version__))\n",
    "print(\"arviz is version {:s}\".format(az.__version__))\n",
    "print(\"numpy is version {:s}\".format(np.__version__))\n",
    "print(\"pandas is version {:s}\".format(pd.__version__))\n",
    "print(\"matplotlib is version {:s}\".format(matplotlib.__version__))"
   ]
  }
 ],
 "metadata": {
  "kernelspec": {
   "display_name": "Python 3",
   "language": "python",
   "name": "python3"
  },
  "language_info": {
   "codemirror_mode": {
    "name": "ipython",
    "version": 3
   },
   "file_extension": ".py",
   "mimetype": "text/x-python",
   "name": "python",
   "nbconvert_exporter": "python",
   "pygments_lexer": "ipython3",
   "version": "3.8.3"
  }
 },
 "nbformat": 4,
 "nbformat_minor": 5
}
